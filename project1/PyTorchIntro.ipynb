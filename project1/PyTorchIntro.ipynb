{
 "cells": [
  {
   "cell_type": "markdown",
   "source": [
    "Train Your Very First Pytorch Model!\n",
    "Let's learn through doing.\n",
    "\n",
    "In this notebook we will create an image classifier to detect playing cards.\n",
    "\n",
    "We will tackle this problem in 3 parts:\n",
    "\n",
    "Pytorch Dataset\n",
    "Pytorch Model\n",
    "Pytorch Training Loop\n",
    "Almost every pytorch model training pipeline meets this paradigm."
   ],
   "metadata": {
    "collapsed": false,
    "pycharm": {
     "name": "#%% md\n"
    }
   }
  },
  {
   "cell_type": "code",
   "execution_count": 5,
   "outputs": [
    {
     "name": "stdout",
     "output_type": "stream",
     "text": [
      "3.12.2 | packaged by conda-forge | (main, Feb 16 2024, 20:42:31) [MSC v.1937 64 bit (AMD64)]\n"
     ]
    }
   ],
   "source": [
    "# Models\n",
    "import torch\n",
    "import torch.nn as nn\n",
    "\n",
    "# Optimizers\n",
    "import torch.optim as optim\n",
    "\n",
    "# Vision tools\n",
    "import torchvision.transforms as transforms\n",
    "from torchvision.datasets import ImageFolder\n",
    "import timm\n",
    "\n",
    "# Data visualization\n",
    "import matplotlib.pyplot as plt\n",
    "import pandas as pd\n",
    "import numpy as np\n",
    "import sys\n",
    "from tqdm.notebook import tqdm\n",
    "\n",
    "print(sys.version)"
   ],
   "metadata": {
    "collapsed": false,
    "pycharm": {
     "name": "#%%\n"
    }
   }
  },
  {
   "cell_type": "code",
   "execution_count": null,
   "outputs": [],
   "source": [],
   "metadata": {
    "collapsed": false,
    "pycharm": {
     "name": "#%%\n"
    }
   }
  }
 ],
 "metadata": {
  "kernelspec": {
   "display_name": "",
   "name": ""
  },
  "language_info": {
   "name": ""
  }
 },
 "nbformat": 4,
 "nbformat_minor": 5
}